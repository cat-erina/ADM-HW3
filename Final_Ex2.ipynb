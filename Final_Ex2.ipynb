{
 "cells": [
  {
   "cell_type": "markdown",
   "metadata": {},
   "source": [
    "# 2. Search Engine"
   ]
  },
  {
   "cell_type": "markdown",
   "metadata": {},
   "source": [
    "### Import libraries"
   ]
  },
  {
   "cell_type": "code",
   "execution_count": 87,
   "metadata": {},
   "outputs": [],
   "source": [
    "import json\n",
    "import numpy as np\n",
    "import pandas as pd\n",
    "import os\n",
    "import csv\n",
    "import itertools\n",
    "import re\n",
    "import csv\n",
    "import nltk\n",
    "from nltk import word_tokenize\n",
    "from nltk.corpus import stopwords\n",
    "from nltk.stem import PorterStemmer\n",
    "from itertools import chain\n",
    "from collections import defaultdict\n",
    "from sklearn.feature_extraction import DictVectorizer\n",
    "from sklearn.metrics.pairwise import cosine_similarity    \n",
    "import operator"
   ]
  },
  {
   "cell_type": "code",
   "execution_count": 88,
   "metadata": {},
   "outputs": [],
   "source": [
    "Dict = {}\n",
    "ps = PorterStemmer()\n",
    "attr = ['Intro', 'Plot']\n",
    "stop = set(stopwords.words('english'))"
   ]
  },
  {
   "cell_type": "code",
   "execution_count": 89,
   "metadata": {},
   "outputs": [],
   "source": [
    "path = '/Users/yves/Desktop/Data_Science/first_year/first_semester/adm/adm_hw3/tsv_files/'"
   ]
  },
  {
   "cell_type": "markdown",
   "metadata": {},
   "source": [
    "## 2.1.1) Create your index!"
   ]
  },
  {
   "cell_type": "markdown",
   "metadata": {},
   "source": [
    "This part has been done in the previous part, directly while creating the tsv files."
   ]
  },
  {
   "cell_type": "markdown",
   "metadata": {},
   "source": [
    "### Open and remove duplicates from the Initial dictionary - Save"
   ]
  },
  {
   "cell_type": "code",
   "execution_count": 4,
   "metadata": {},
   "outputs": [],
   "source": [
    "f =  open('/Users/yves/Desktop/Data_Science/first_year/first_semester/adm/adm_hw3/Good.json', 'r')\n",
    "Dict = json.load(f)"
   ]
  },
  {
   "cell_type": "code",
   "execution_count": 5,
   "metadata": {},
   "outputs": [],
   "source": [
    "good_dict = {}\n",
    "for i in list([*Dict]):\n",
    "    good_dict[i] = list(set(Dict[i]))"
   ]
  },
  {
   "cell_type": "code",
   "execution_count": 6,
   "metadata": {},
   "outputs": [],
   "source": [
    "with open('/Users/yves/Desktop/Data_Science/first_year/first_semester/adm/adm_hw3/Good_Good.json', 'w') as outfile:\n",
    "    json.dump(good_dict, outfile)"
   ]
  },
  {
   "cell_type": "markdown",
   "metadata": {},
   "source": [
    "### Load the Initial dictionary"
   ]
  },
  {
   "cell_type": "code",
   "execution_count": 8,
   "metadata": {},
   "outputs": [],
   "source": [
    "f =  open('/Users/yves/Desktop/Data_Science/first_year/first_semester/adm/adm_hw3/Good_Good.json', 'r')\n",
    "good_dict = json.load(f)"
   ]
  },
  {
   "cell_type": "markdown",
   "metadata": {},
   "source": [
    "## 2.1.2) Execute the query"
   ]
  },
  {
   "cell_type": "markdown",
   "metadata": {},
   "source": [
    "### Selection of the documents containg all the words in the query"
   ]
  },
  {
   "cell_type": "code",
   "execution_count": 94,
   "metadata": {},
   "outputs": [
    {
     "data": {
      "text/plain": [
       "['movie8293.tsv',\n",
       " 'movie3907.tsv',\n",
       " 'movie7159.tsv',\n",
       " 'movie6545.tsv',\n",
       " 'movie7745.tsv',\n",
       " 'movie3235.tsv',\n",
       " 'movie9006.tsv',\n",
       " 'movie9326.tsv']"
      ]
     },
     "execution_count": 94,
     "metadata": {},
     "output_type": "execute_result"
    }
   ],
   "source": [
    "lst = []\n",
    "for word in query:\n",
    "    s = []\n",
    "    docs = New_Dict.get(word)\n",
    "    if docs is None or len(docs) == 0:\n",
    "        continue\n",
    "    else:\n",
    "        for i in docs:\n",
    "            s.append(i[0])\n",
    "    lst.append(s)\n",
    "result = list(set(lst[0]).intersection(*lst))\n"
   ]
  },
  {
   "cell_type": "markdown",
   "metadata": {},
   "source": [
    "## 2.2) Conjunctive query & Ranking score"
   ]
  },
  {
   "cell_type": "markdown",
   "metadata": {},
   "source": [
    "### 2.2.1) Inverted index"
   ]
  },
  {
   "cell_type": "code",
   "execution_count": 13,
   "metadata": {},
   "outputs": [],
   "source": [
    "path = '/Users/yves/Desktop/Data_Science/first_year/first_semester/adm/adm_hw3/tsv_files/'\n",
    "attr = ['Intro', 'Plot']  \n",
    "ps = PorterStemmer()\n",
    "stop = set(stopwords.words('english'))\n",
    "lst = list(Dict.keys())\n",
    "len_dict = len(os.listdir(path))\n",
    "New_Dict = {}"
   ]
  },
  {
   "cell_type": "code",
   "execution_count": 14,
   "metadata": {},
   "outputs": [],
   "source": [
    "i = []\n",
    "for word in good_dict:\n",
    "    val_word = list(good_dict[word])\n",
    "    for doc in good_dict[word]:\n",
    "        file = []\n",
    "        s=[]\n",
    "        with open(path+doc) as fd:\n",
    "            rd = csv.reader(fd, delimiter=\"\\t\", quotechar='\"')\n",
    "            for row in rd:\n",
    "                if row[0] == 'Merged':\n",
    "                    # Converting string to list \n",
    "                    res = row[1].strip('][').split(', ')\n",
    "                    file.append(res)\n",
    "        if len(file) < 1:\n",
    "            i.append(doc)\n",
    "        else:\n",
    "            len_file = len(file[0])\n",
    "\n",
    "            count = file[0].count(\"'\"+word+\"'\")\n",
    "            tf = round(count/len_file, 4)\n",
    "            idf = np.log(len_dict/len(val_word))\n",
    "            if word in New_Dict.keys():\n",
    "                New_Dict[word].append((doc, tf*idf))\n",
    "            else:\n",
    "                New_Dict[word] = [(doc, tf*idf)]"
   ]
  },
  {
   "cell_type": "markdown",
   "metadata": {},
   "source": [
    "### Saving the inverted matrix"
   ]
  },
  {
   "cell_type": "code",
   "execution_count": 15,
   "metadata": {},
   "outputs": [],
   "source": [
    "with open('/Users/yves/Desktop/Data_Science/first_year/first_semester/adm/adm_hw3/tfidf_DICT.json', 'w') as outfile:\n",
    "    json.dump(New_Dict, outfile)"
   ]
  },
  {
   "cell_type": "markdown",
   "metadata": {},
   "source": [
    "### Load the dictionary with the inverted matrix"
   ]
  },
  {
   "cell_type": "code",
   "execution_count": 90,
   "metadata": {},
   "outputs": [],
   "source": [
    "f =  open('/Users/yves/Desktop/Data_Science/first_year/first_semester/adm/adm_hw3/tfidf_DICT.json', 'r')\n",
    "New_Dict = json.load(f)"
   ]
  },
  {
   "cell_type": "markdown",
   "metadata": {},
   "source": [
    "### Stemming the query"
   ]
  },
  {
   "cell_type": "code",
   "execution_count": 91,
   "metadata": {},
   "outputs": [],
   "source": [
    "# function for stemming \n",
    "def stem_word(lst_words):\n",
    "    clean_lst_words= []\n",
    "    for word in lst_words:\n",
    "        word = ps.stem(word)\n",
    "        clean_lst_words.append(word)\n",
    "    return(clean_lst_words)\n",
    "query = ['Disney', 'movie', 'love']\n",
    "query = stem_word(query)"
   ]
  },
  {
   "cell_type": "markdown",
   "metadata": {},
   "source": [
    "### Query TF-IDF"
   ]
  },
  {
   "cell_type": "code",
   "execution_count": 95,
   "metadata": {},
   "outputs": [],
   "source": [
    "def tf_idf_query(query):\n",
    "    tf_idf = {}\n",
    "    len_query = len(query)\n",
    "    len_dict = len(os.listdir(path))\n",
    "    DF = {}\n",
    "    for word in query:# its a count funtion\n",
    "        if word not in DF.keys():\n",
    "            DF[word] = 1 \n",
    "        else:\n",
    "            DF[word]+=1\n",
    "    \n",
    "    for word in query:\n",
    "        count = query.count(word)\n",
    "        tf =round(count/len_query, 4)\n",
    "        val_word = DF[word]\n",
    "        idf = np.log(len(DF.keys())/val_word)\n",
    "        if word in tf_idf.keys():\n",
    "            tf_idf[word]+= tf*idf\n",
    "        else:\n",
    "            tf_idf[word] = tf*idf\n",
    "    return tf_idf"
   ]
  },
  {
   "cell_type": "code",
   "execution_count": 111,
   "metadata": {},
   "outputs": [
    {
     "ename": "TypeError",
     "evalue": "'dict' object is not callable",
     "output_type": "error",
     "traceback": [
      "\u001b[0;31m---------------------------------------------------------------------------\u001b[0m",
      "\u001b[0;31mTypeError\u001b[0m                                 Traceback (most recent call last)",
      "\u001b[0;32m<ipython-input-111-1b24489a9396>\u001b[0m in \u001b[0;36m<module>\u001b[0;34m\u001b[0m\n\u001b[0;32m----> 1\u001b[0;31m \u001b[0mtf_idf_query\u001b[0m \u001b[0;34m=\u001b[0m \u001b[0mtf_idf_query\u001b[0m\u001b[0;34m(\u001b[0m\u001b[0mquery\u001b[0m\u001b[0;34m)\u001b[0m\u001b[0;34m\u001b[0m\u001b[0;34m\u001b[0m\u001b[0m\n\u001b[0m",
      "\u001b[0;31mTypeError\u001b[0m: 'dict' object is not callable"
     ]
    }
   ],
   "source": [
    "tf_idf_query = tf_idf_query(query)  "
   ]
  },
  {
   "cell_type": "markdown",
   "metadata": {},
   "source": [
    "## 2.2.2) Execute the query"
   ]
  },
  {
   "cell_type": "markdown",
   "metadata": {},
   "source": [
    "### Ranking - Cosine Similarity"
   ]
  },
  {
   "cell_type": "code",
   "execution_count": 97,
   "metadata": {},
   "outputs": [],
   "source": [
    "import math\n",
    "\n",
    "def numerator(query, doc):\n",
    "    sum_ = []\n",
    "    for word in query:\n",
    "        for docs in New_Dict[word]:\n",
    "            if doc == docs[0]:\n",
    "                val_query = tf_idf_query[word]\n",
    "                val_word = docs[1]\n",
    "                molt_word = val_query * val_word\n",
    "                sum_.append(molt_word)\n",
    "    return(sum(sum_))\n",
    "                \n",
    "def norm_doc(query, doc):\n",
    "    tot_sum = 0\n",
    "    for i in range(len(query)):\n",
    "        sum_ = 0\n",
    "        for docs in New_Dict[query[i]]:\n",
    "            if doc == docs[0]:\n",
    "                val = (docs[1])**2\n",
    "                sum_ = val\n",
    "        tot_sum += sum_\n",
    "    return(math.sqrt(tot_sum))\n",
    "\n",
    "def norm_query(query):\n",
    "    tot_sum = 0\n",
    "    for i in range(len(query)):\n",
    "        val = tf_idf_query[query[i]]\n",
    "        val = val**2\n",
    "        tot_sum += val\n",
    "    return(math.sqrt(tot_sum))\n"
   ]
  },
  {
   "cell_type": "code",
   "execution_count": 108,
   "metadata": {},
   "outputs": [],
   "source": [
    "L = []\n",
    "for i in result:\n",
    "    num = numerator(query, i)\n",
    "    denom = norm_doc(query, i) * norm_query(query)\n",
    "    L.append([i, round((num / denom)*100, 3)])"
   ]
  },
  {
   "cell_type": "code",
   "execution_count": 109,
   "metadata": {},
   "outputs": [],
   "source": [
    "cos_similarity = sorted(L,key = lambda element: element[1],reverse = True)"
   ]
  },
  {
   "cell_type": "code",
   "execution_count": 110,
   "metadata": {},
   "outputs": [
    {
     "data": {
      "text/html": [
       "<div>\n",
       "<style scoped>\n",
       "    .dataframe tbody tr th:only-of-type {\n",
       "        vertical-align: middle;\n",
       "    }\n",
       "\n",
       "    .dataframe tbody tr th {\n",
       "        vertical-align: top;\n",
       "    }\n",
       "\n",
       "    .dataframe thead th {\n",
       "        text-align: right;\n",
       "    }\n",
       "</style>\n",
       "<table border=\"1\" class=\"dataframe\">\n",
       "  <thead>\n",
       "    <tr style=\"text-align: right;\">\n",
       "      <th></th>\n",
       "      <th>Name</th>\n",
       "      <th>Intro</th>\n",
       "      <th>Url</th>\n",
       "      <th>Similarity</th>\n",
       "    </tr>\n",
       "  </thead>\n",
       "  <tbody>\n",
       "    <tr>\n",
       "      <th>0</th>\n",
       "      <td>The Love Bug</td>\n",
       "      <td>The Love Bug (sometimes referred to as Herbie ...</td>\n",
       "      <td>https://en.wikipedia.org/wiki/The_Love_Bug</td>\n",
       "      <td>95.186 %</td>\n",
       "    </tr>\n",
       "    <tr>\n",
       "      <th>1</th>\n",
       "      <td>Herbie Rides Again</td>\n",
       "      <td>Herbie Rides Again is a 1974 American comedy f...</td>\n",
       "      <td>https://en.wikipedia.org/wiki/Herbie_Rides_Again</td>\n",
       "      <td>93.237 %</td>\n",
       "    </tr>\n",
       "    <tr>\n",
       "      <th>2</th>\n",
       "      <td>Invitation to the Dance</td>\n",
       "      <td>Invitation to the Dance is a 1956 anthology fi...</td>\n",
       "      <td>https://en.wikipedia.org/wiki/Invitation_to_th...</td>\n",
       "      <td>90.74 %</td>\n",
       "    </tr>\n",
       "    <tr>\n",
       "      <th>3</th>\n",
       "      <td>Darby O'Gill and the Little People</td>\n",
       "      <td>Darby O'Gill and the Little People is a 1959 W...</td>\n",
       "      <td>https://en.wikipedia.org/wiki/Darby_O%27Gill_a...</td>\n",
       "      <td>87.316 %</td>\n",
       "    </tr>\n",
       "    <tr>\n",
       "      <th>4</th>\n",
       "      <td>Herbie Goes to Monte Carlo</td>\n",
       "      <td>Herbie Goes to Monte Carlo is a 1977 American ...</td>\n",
       "      <td>https://en.wikipedia.org/wiki/Herbie_Goes_to_M...</td>\n",
       "      <td>87.316 %</td>\n",
       "    </tr>\n",
       "    <tr>\n",
       "      <th>5</th>\n",
       "      <td>Bambi</td>\n",
       "      <td>Bambi is a 1942 American animated film directe...</td>\n",
       "      <td>https://en.wikipedia.org/wiki/Bambi</td>\n",
       "      <td>74.218 %</td>\n",
       "    </tr>\n",
       "    <tr>\n",
       "      <th>6</th>\n",
       "      <td>The Three Caballeros</td>\n",
       "      <td>The Three Caballeros is a 1944 American live-a...</td>\n",
       "      <td>https://en.wikipedia.org/wiki/The_Three_Caball...</td>\n",
       "      <td>70.21 %</td>\n",
       "    </tr>\n",
       "    <tr>\n",
       "      <th>7</th>\n",
       "      <td>Summer Magic</td>\n",
       "      <td>Summer Magic is a 1963 Walt Disney Productions...</td>\n",
       "      <td>https://en.wikipedia.org/wiki/Summer_Magic</td>\n",
       "      <td>70.21 %</td>\n",
       "    </tr>\n",
       "  </tbody>\n",
       "</table>\n",
       "</div>"
      ],
      "text/plain": [
       "                                 Name  \\\n",
       "0                        The Love Bug   \n",
       "1                  Herbie Rides Again   \n",
       "2             Invitation to the Dance   \n",
       "3  Darby O'Gill and the Little People   \n",
       "4          Herbie Goes to Monte Carlo   \n",
       "5                               Bambi   \n",
       "6                The Three Caballeros   \n",
       "7                        Summer Magic   \n",
       "\n",
       "                                               Intro  \\\n",
       "0  The Love Bug (sometimes referred to as Herbie ...   \n",
       "1  Herbie Rides Again is a 1974 American comedy f...   \n",
       "2  Invitation to the Dance is a 1956 anthology fi...   \n",
       "3  Darby O'Gill and the Little People is a 1959 W...   \n",
       "4  Herbie Goes to Monte Carlo is a 1977 American ...   \n",
       "5  Bambi is a 1942 American animated film directe...   \n",
       "6  The Three Caballeros is a 1944 American live-a...   \n",
       "7  Summer Magic is a 1963 Walt Disney Productions...   \n",
       "\n",
       "                                                 Url Similarity  \n",
       "0         https://en.wikipedia.org/wiki/The_Love_Bug   95.186 %  \n",
       "1   https://en.wikipedia.org/wiki/Herbie_Rides_Again   93.237 %  \n",
       "2  https://en.wikipedia.org/wiki/Invitation_to_th...    90.74 %  \n",
       "3  https://en.wikipedia.org/wiki/Darby_O%27Gill_a...   87.316 %  \n",
       "4  https://en.wikipedia.org/wiki/Herbie_Goes_to_M...   87.316 %  \n",
       "5                https://en.wikipedia.org/wiki/Bambi   74.218 %  \n",
       "6  https://en.wikipedia.org/wiki/The_Three_Caball...    70.21 %  \n",
       "7         https://en.wikipedia.org/wiki/Summer_Magic    70.21 %  "
      ]
     },
     "execution_count": 110,
     "metadata": {},
     "output_type": "execute_result"
    }
   ],
   "source": [
    "to_df = []\n",
    "for movie in cos_similarity:\n",
    "    element_in_movie = {}\n",
    "    with open(path+movie[0]) as fd:\n",
    "        rd = csv.reader(fd, delimiter=\"\\t\", quotechar='\"')\n",
    "        for row in rd:\n",
    "            if row[0] == 'Name':\n",
    "                element_in_movie['Name'] = row[1]\n",
    "            elif row[0] == 'Intro':\n",
    "                element_in_movie['Intro'] = row[1]\n",
    "            elif row[0] == 'Url':\n",
    "                element_in_movie['Url'] = row[1]\n",
    "        element_in_movie['Similarity'] = str(movie[1])+' %'\n",
    "    to_df.append(element_in_movie)\n",
    "df = pd.DataFrame(to_df)\n",
    "df = df.reindex(('Name', 'Intro', 'Url', 'Similarity'), axis=1)\n",
    "df.iloc[:10]"
   ]
  },
  {
   "cell_type": "code",
   "execution_count": null,
   "metadata": {},
   "outputs": [],
   "source": []
  }
 ],
 "metadata": {
  "kernelspec": {
   "display_name": "Python 3",
   "language": "python",
   "name": "python3"
  },
  "language_info": {
   "codemirror_mode": {
    "name": "ipython",
    "version": 3
   },
   "file_extension": ".py",
   "mimetype": "text/x-python",
   "name": "python",
   "nbconvert_exporter": "python",
   "pygments_lexer": "ipython3",
   "version": "3.7.5"
  }
 },
 "nbformat": 4,
 "nbformat_minor": 2
}
